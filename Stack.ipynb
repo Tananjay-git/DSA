{
  "cells": [
    {
      "cell_type": "markdown",
      "metadata": {
        "id": "view-in-github",
        "colab_type": "text"
      },
      "source": [
        "<a href=\"https://colab.research.google.com/github/Tananjay-git/DSA/blob/main/Stack.ipynb\" target=\"_parent\"><img src=\"https://colab.research.google.com/assets/colab-badge.svg\" alt=\"Open In Colab\"/></a>"
      ]
    },
    {
      "cell_type": "code",
      "execution_count": 1,
      "metadata": {
        "id": "Sc1U9FCl6geC"
      },
      "outputs": [],
      "source": [
        "class Node:\n",
        "  def __init__(self, value):\n",
        "    self.data = value\n",
        "    self.next = None"
      ]
    },
    {
      "cell_type": "code",
      "execution_count": 2,
      "metadata": {
        "id": "YmGYqO3MFL09"
      },
      "outputs": [],
      "source": [
        "class stack:\n",
        "  def __init__(self):\n",
        "    self.head = None\n",
        "    self.n = 0\n",
        "\n",
        "  def check_head(self):\n",
        "    return self.head == None\n",
        "\n",
        "  def push(self, value):\n",
        "    new_node = Node(value)\n",
        "    new_node.next = self.head\n",
        "    self.head = new_node\n",
        "    self.n +=1\n",
        "\n",
        "  def pop(self):\n",
        "    if self.check_head():\n",
        "      return 'Empty Stack'\n",
        "    self.head = self.head.next\n",
        "    self.n -= 1\n",
        "\n",
        "  def peek(self):\n",
        "    if self.check_head():\n",
        "      return 'Empty Stack'\n",
        "    return self.head.data\n",
        "\n",
        "  def __str__(self):\n",
        "    if self.check_head():\n",
        "      return 'Empty Stack'\n",
        "    result = ''\n",
        "    cur = self.head\n",
        "    while cur != None:\n",
        "      result = result + str(cur.data)\n",
        "      cur = cur.next\n",
        "    return result\n",
        "\n",
        "  def revers_str(self, st):\n",
        "    for i in st:\n",
        "      self.push(i)\n",
        "    cur = self.head\n",
        "    result = ''\n",
        "    while cur != None:\n",
        "      result += cur.data\n",
        "      cur= cur.next\n",
        "    return result\n",
        "\n",
        "\n"
      ]
    },
    {
      "cell_type": "code",
      "execution_count": null,
      "metadata": {
        "id": "E0HkJnEKGyew"
      },
      "outputs": [],
      "source": [
        "l = stack()"
      ]
    },
    {
      "cell_type": "code",
      "execution_count": null,
      "metadata": {
        "id": "vjLtjgrkG1YL"
      },
      "outputs": [],
      "source": [
        "l.push(3)\n",
        "l.push(8)\n",
        "l.push(4)\n",
        "l.push(1)\n",
        "l.push(0)"
      ]
    },
    {
      "cell_type": "code",
      "execution_count": null,
      "metadata": {
        "id": "dqoGlwww_RVv"
      },
      "outputs": [],
      "source": [
        "l.pop()"
      ]
    },
    {
      "cell_type": "code",
      "execution_count": null,
      "metadata": {
        "colab": {
          "base_uri": "https://localhost:8080/"
        },
        "id": "QSGcTonzAfV_",
        "outputId": "811f1db5-4ca6-4f75-9abd-4c5f18e02156"
      },
      "outputs": [
        {
          "data": {
            "text/plain": [
              "1"
            ]
          },
          "execution_count": 8,
          "metadata": {},
          "output_type": "execute_result"
        }
      ],
      "source": [
        "l.peek()"
      ]
    },
    {
      "cell_type": "code",
      "execution_count": null,
      "metadata": {
        "colab": {
          "base_uri": "https://localhost:8080/"
        },
        "id": "BAOq7KNN7OmU",
        "outputId": "a311460c-0a58-4242-bddc-43e3ecbf3a08"
      },
      "outputs": [
        {
          "output_type": "stream",
          "name": "stdout",
          "text": [
            "Empty Stack\n"
          ]
        }
      ],
      "source": [
        "print(l)"
      ]
    },
    {
      "cell_type": "code",
      "execution_count": null,
      "metadata": {
        "colab": {
          "background_save": true,
          "base_uri": "https://localhost:8080/",
          "height": 263
        },
        "id": "I4y1VKn6EV2q",
        "outputId": "e1b8b7a9-52be-4a01-9759-60af1900cf3c"
      },
      "outputs": [
        {
          "data": {
            "application/vnd.google.colaboratory.intrinsic+json": {
              "type": "string"
            },
            "text/plain": [
              "'olleH'"
            ]
          },
          "execution_count": 11,
          "metadata": {},
          "output_type": "execute_result"
        }
      ],
      "source": [
        "l.revers_str('Hello')"
      ]
    },
    {
      "cell_type": "code",
      "source": [
        "def test_editor(text, pattern):\n",
        "  u = stack()\n",
        "  r = stack()\n",
        "\n",
        "  for i in text:\n",
        "    u.push(i)\n",
        "\n",
        "  for i in pattern:\n",
        "    if i == 'u':\n",
        "      data = u.pop()\n",
        "      r.push(data)\n",
        "    else:\n",
        "      data = r.pop()\n",
        "      u.push(data)\n",
        "  cur = u.head\n",
        "  res =''\n",
        "  while cur != None:\n",
        "    res = res + str(cur.data)\n",
        "    cur = cur.next\n",
        "  o = stack()\n",
        "  st = o.revers_str(res)\n",
        "  print(st)\n"
      ],
      "metadata": {
        "id": "RQ2SH1TAmE2V"
      },
      "execution_count": 3,
      "outputs": []
    },
    {
      "cell_type": "code",
      "source": [
        "test_editor('Hello','urur')"
      ],
      "metadata": {
        "colab": {
          "base_uri": "https://localhost:8080/"
        },
        "id": "xkRS3OFFnkbO",
        "outputId": "6b21ecf5-f88b-4e4b-cc65-f4cc7c0ba56e"
      },
      "execution_count": 5,
      "outputs": [
        {
          "output_type": "stream",
          "name": "stdout",
          "text": [
            "HellenoN\n"
          ]
        }
      ]
    }
  ],
  "metadata": {
    "colab": {
      "provenance": [],
      "authorship_tag": "ABX9TyOPcZR8k2yXe6FXo/haDByQ",
      "include_colab_link": true
    },
    "kernelspec": {
      "display_name": "Python 3",
      "name": "python3"
    },
    "language_info": {
      "name": "python"
    }
  },
  "nbformat": 4,
  "nbformat_minor": 0
}