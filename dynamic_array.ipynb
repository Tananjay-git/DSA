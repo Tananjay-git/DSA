{
  "nbformat": 4,
  "nbformat_minor": 0,
  "metadata": {
    "colab": {
      "provenance": [],
      "authorship_tag": "ABX9TyMTq+Bx+BS7g727Fn6yw12B",
      "include_colab_link": true
    },
    "kernelspec": {
      "name": "python3",
      "display_name": "Python 3"
    },
    "language_info": {
      "name": "python"
    }
  },
  "cells": [
    {
      "cell_type": "markdown",
      "metadata": {
        "id": "view-in-github",
        "colab_type": "text"
      },
      "source": [
        "<a href=\"https://colab.research.google.com/github/Tananjay-git/DSA/blob/main/dynamic_array.ipynb\" target=\"_parent\"><img src=\"https://colab.research.google.com/assets/colab-badge.svg\" alt=\"Open In Colab\"/></a>"
      ]
    },
    {
      "cell_type": "code",
      "execution_count": 1,
      "metadata": {
        "id": "XNtiV-cD9eVA"
      },
      "outputs": [],
      "source": [
        "import ctypes"
      ]
    },
    {
      "cell_type": "code",
      "source": [
        "class Mylist:\n",
        "    def __init__(self):\n",
        "        self.size = 1\n",
        "        self.n = 0\n",
        "        self.A = self.__make_array(self.size)\n",
        "\n",
        "    def __len__(self):\n",
        "        return self.n\n",
        "\n",
        "    def __make_array(self, capacity):\n",
        "        #create a C type array (static, referential array) with size capacity\n",
        "        return(capacity*ctypes.py_object)()\n",
        "\n",
        "    def append(self, item):\n",
        "        if self.n == self.size:\n",
        "            #resize\n",
        "            self.__resize(self.size*2)\n",
        "\n",
        "        #Append\n",
        "        self.A[self.n] = item\n",
        "        self.n = self.n + 1\n",
        "\n",
        "    def pop(self):\n",
        "        if self.n == 0:\n",
        "            return 'Empty List'\n",
        "\n",
        "        print(self.A[self.n-1])\n",
        "        self.n = self.n - 1\n",
        "\n",
        "    def clear(self):\n",
        "        self.n = 0\n",
        "        self.size = 1\n",
        "\n",
        "    def find(self, item):\n",
        "        for i in range(self.n):\n",
        "            if self.A[i] == item:\n",
        "                return i\n",
        "\n",
        "        return 'Value Error - Not in list'\n",
        "\n",
        "    def insert(self, pos, item):\n",
        "        if self.n == self.size:\n",
        "            #resize\n",
        "            self.__resize(self.size*2)\n",
        "        if pos < 0 or pos > self.n:\n",
        "          return 'Index error : Index out of range'\n",
        "\n",
        "        for i in range(self.n , pos , -1):\n",
        "          self.A[i] = self.A[i-1]\n",
        "\n",
        "        self.A[pos] = item\n",
        "        self.n = self.n + 1\n",
        "\n",
        "\n",
        "    def __resize(self, new_capacity):\n",
        "        # Creating new array with size new_capacity\n",
        "        B = self.__make_array(new_capacity)\n",
        "        self.size = new_capacity\n",
        "        #Copy the content A to B\n",
        "        for i in range(self.n):\n",
        "            B[i] = self.A[i]\n",
        "        # Reassign A\n",
        "        self.A = B\n",
        "\n",
        "    def __str__(self):\n",
        "        result = ''\n",
        "        for i in range(self.n):\n",
        "            result = result + str(self.A[i]) + ','\n",
        "        return '[' + result[:-1] + ']'\n",
        "\n",
        "    def __getitem__(self, index):\n",
        "        if 0 <= index < self.n:\n",
        "            return self.A[index]\n",
        "        else:\n",
        "            return 'Index Error - Index out of range'"
      ],
      "metadata": {
        "id": "vwJ8mMaL98wE"
      },
      "execution_count": 23,
      "outputs": []
    },
    {
      "cell_type": "code",
      "source": [
        "l = Mylist()"
      ],
      "metadata": {
        "id": "0bSnWNZ6-DsG"
      },
      "execution_count": 24,
      "outputs": []
    },
    {
      "cell_type": "code",
      "source": [
        "l.append('hello')\n",
        "l.append(3.4)\n",
        "l.append(True)"
      ],
      "metadata": {
        "id": "-WlcRFFF-IIU"
      },
      "execution_count": 25,
      "outputs": []
    },
    {
      "cell_type": "code",
      "source": [
        "l.append(48)"
      ],
      "metadata": {
        "id": "H9_KKyNJ6sqm"
      },
      "execution_count": 26,
      "outputs": []
    },
    {
      "cell_type": "code",
      "source": [
        "print(l)"
      ],
      "metadata": {
        "colab": {
          "base_uri": "https://localhost:8080/"
        },
        "id": "b3aSAh5J-PMh",
        "outputId": "34784ea7-f6f9-4dd0-99a1-445a773c2d31"
      },
      "execution_count": 27,
      "outputs": [
        {
          "output_type": "stream",
          "name": "stdout",
          "text": [
            "[hello,3.4,True,48]\n"
          ]
        }
      ]
    },
    {
      "cell_type": "code",
      "source": [
        "l.pop()"
      ],
      "metadata": {
        "colab": {
          "base_uri": "https://localhost:8080/"
        },
        "id": "lhrZVazA-SBK",
        "outputId": "af0b0e79-359f-4098-d399-5321587c537d"
      },
      "execution_count": null,
      "outputs": [
        {
          "output_type": "stream",
          "name": "stdout",
          "text": [
            "True\n"
          ]
        }
      ]
    },
    {
      "cell_type": "code",
      "source": [
        "l.clear()"
      ],
      "metadata": {
        "id": "kfIiLd88-cLY"
      },
      "execution_count": null,
      "outputs": []
    },
    {
      "cell_type": "code",
      "source": [
        "l.find(480)"
      ],
      "metadata": {
        "colab": {
          "base_uri": "https://localhost:8080/",
          "height": 35
        },
        "id": "uyqgXcH1-fke",
        "outputId": "df475cfd-b169-4dc4-d852-1cf4cbd86e13"
      },
      "execution_count": 6,
      "outputs": [
        {
          "output_type": "execute_result",
          "data": {
            "text/plain": [
              "'Value Error - Not in list'"
            ],
            "application/vnd.google.colaboratory.intrinsic+json": {
              "type": "string"
            }
          },
          "metadata": {},
          "execution_count": 6
        }
      ]
    },
    {
      "cell_type": "code",
      "source": [
        "l.insert(2, 'world')"
      ],
      "metadata": {
        "id": "tPLjLb9V560Q"
      },
      "execution_count": 28,
      "outputs": []
    },
    {
      "cell_type": "code",
      "source": [
        "print(l)"
      ],
      "metadata": {
        "id": "p5bvmnzQ6iFt",
        "outputId": "0f4b9c7f-aafd-435d-a84d-8d47a2e82b0e",
        "colab": {
          "base_uri": "https://localhost:8080/"
        }
      },
      "execution_count": 29,
      "outputs": [
        {
          "output_type": "stream",
          "name": "stdout",
          "text": [
            "[hello,3.4,world,True,48]\n"
          ]
        }
      ]
    }
  ]
}