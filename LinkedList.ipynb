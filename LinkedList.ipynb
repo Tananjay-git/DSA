{
  "nbformat": 4,
  "nbformat_minor": 0,
  "metadata": {
    "colab": {
      "provenance": [],
      "authorship_tag": "ABX9TyMkOAuvTydIxrJvjhIHvznR",
      "include_colab_link": true
    },
    "kernelspec": {
      "name": "python3",
      "display_name": "Python 3"
    },
    "language_info": {
      "name": "python"
    }
  },
  "cells": [
    {
      "cell_type": "markdown",
      "metadata": {
        "id": "view-in-github",
        "colab_type": "text"
      },
      "source": [
        "<a href=\"https://colab.research.google.com/github/Tananjay-git/DSA/blob/main/LinkedList.ipynb\" target=\"_parent\"><img src=\"https://colab.research.google.com/assets/colab-badge.svg\" alt=\"Open In Colab\"/></a>"
      ]
    },
    {
      "cell_type": "code",
      "execution_count": 1,
      "metadata": {
        "id": "xCQmR5VXQckA"
      },
      "outputs": [],
      "source": [
        "class Node:\n",
        "  def __init__(self, value):\n",
        "    self.data = value\n",
        "    self.next = None"
      ]
    },
    {
      "cell_type": "code",
      "source": [
        "class link_list:\n",
        "  def __init__(self):\n",
        "    self.head = None\n",
        "    self.n = 0 #count of node\n",
        "\n",
        "  def __len__(self):\n",
        "    return self.n\n",
        "\n",
        "  def insert_head(self, value):\n",
        "    new_node = Node(value) #Creating a new node\n",
        "    new_node.next = self.head\n",
        "    self.head = new_node\n",
        "    self.n = self.n + 1\n",
        "\n",
        "  def __str__(self):\n",
        "    cur = self.head\n",
        "    result = ''\n",
        "\n",
        "    if self.head != None:\n",
        "      while cur != None:\n",
        "        result = result + str(cur.data) + '->'\n",
        "        cur = cur.next\n",
        "      return result[:-2]\n",
        "    else:\n",
        "      return 'Empty Link List'\n",
        "\n",
        "  def append(self, value):\n",
        "    new_node = Node(value)\n",
        "\n",
        "    if self.head == None:\n",
        "      self.head = new_node\n",
        "      self.n = self.n +1\n",
        "      return\n",
        "\n",
        "    cur = self.head\n",
        "    while cur.next != None:\n",
        "      cur = cur.next\n",
        "\n",
        "    cur.next = new_node\n",
        "    self.n = self.n + 1\n",
        "\n",
        "  def insert_in_btw(self, pos, value):\n",
        "    new_node = Node(value)\n",
        "\n",
        "    if self.head == None:\n",
        "      self.head = new_node\n",
        "      self.n = self.n + 1\n",
        "      return\n",
        "\n",
        "    cur = self.head\n",
        "    for i in range(pos-1):\n",
        "      cur = cur.next\n",
        "\n",
        "    temp = cur.next\n",
        "    cur.next = new_node\n",
        "    new_node.next = temp\n",
        "    self.n = self.n + 1\n",
        "\n",
        "  def clear(self):\n",
        "    self.head = None\n",
        "    self.n = 0\n",
        "\n",
        "  def delete_head(self):\n",
        "    if self.head == None:\n",
        "      return 'Empty Linked List'\n",
        "    else:\n",
        "      self.head = self.head.next\n",
        "      self.n = self.n - 1\n",
        "\n",
        "  def delete_tail(self):\n",
        "    if self.head == None:\n",
        "      return \"Empty Link List\"\n",
        "    else:\n",
        "      cur = self.head\n",
        "      for i in range(self.n-2):\n",
        "        cur = cur.next\n",
        "      if cur.next == None:\n",
        "        self.delete_head()\n",
        "        return 'Linked List Deleted'\n",
        "      else:\n",
        "        cur.next = None\n",
        "        self.n = self.n - 1\n",
        "\n",
        "  def remove(self, value):\n",
        "    if self.head == None:\n",
        "      return 'Empty Link List'\n",
        "    else:\n",
        "      cur = self.head\n",
        "      if cur.data == value:\n",
        "        self.delete_head()\n",
        "        return\n",
        "      while cur.next != None:\n",
        "        if cur.next.data == value:\n",
        "          break\n",
        "        cur = cur.next\n",
        "      #Case 1 -- Item not  Found\n",
        "      if cur.next == None:\n",
        "        return 'Item Not found'\n",
        "      #Case 2 -- If Item found\n",
        "      else:\n",
        "        cur.next = cur.next.next\n",
        "        self.n = self.n - 1\n",
        "\n",
        "  def delete_at(self, pos):\n",
        "    if pos > self.n-1:\n",
        "      return 'Index Error'\n",
        "    if pos == 0:\n",
        "      self.delete_head()\n",
        "      return\n",
        "    if pos == self.n-1:\n",
        "      self.delete_tail()\n",
        "      return\n",
        "    cur = self.head\n",
        "    for i in range(pos-1):\n",
        "      cur = cur.next\n",
        "    cur.next = cur.next.next\n",
        "    self.n = self.n - 1\n",
        "\n",
        "  def search(self, value):\n",
        "    pos = 0\n",
        "    if self.head == None:\n",
        "      return 'Empty Link List'\n",
        "    else:\n",
        "      if self.head.data == value:\n",
        "        return pos\n",
        "      else:\n",
        "        cur = self.head\n",
        "        while cur != None:\n",
        "          if cur.data == value:\n",
        "            return pos\n",
        "          cur = cur.next\n",
        "          pos = pos + 1\n",
        "        return 'Item Not Found'\n",
        "\n",
        "  def __getitem__(self, pos):\n",
        "    if self.head == None:\n",
        "      return 'Empty Link List'\n",
        "    if pos > self.n-1:\n",
        "      return 'Out of range'\n",
        "    cur = self.head\n",
        "    for i in range(pos):\n",
        "      cur = cur.next\n",
        "    return cur.data\n",
        "\n",
        "  def replace_max(self, value):\n",
        "    if self.head == None:\n",
        "      return 'Empty Linked List'\n",
        "    cur = temp = self.head\n",
        "    while cur != None:\n",
        "      if cur.data >= temp.data:\n",
        "        temp = cur\n",
        "      cur = cur.next\n",
        "    temp.data = value\n",
        "\n",
        "  def sum_odd(self):\n",
        "    cur = self.head\n",
        "    while cur != None:\n",
        "      if self.n % 2 != 0:\n",
        "        print(cur.data)\n",
        "      cur = cur.next"
      ],
      "metadata": {
        "id": "NrEIWaLNRQ7i"
      },
      "execution_count": 48,
      "outputs": []
    },
    {
      "cell_type": "code",
      "source": [
        "l = link_list()"
      ],
      "metadata": {
        "id": "n-mXIfKpS3MX"
      },
      "execution_count": 49,
      "outputs": []
    },
    {
      "cell_type": "code",
      "source": [
        "len(l)"
      ],
      "metadata": {
        "colab": {
          "base_uri": "https://localhost:8080/"
        },
        "id": "KA5DRRKUS8lI",
        "outputId": "29239872-18ed-4927-dba6-7957a4394853"
      },
      "execution_count": null,
      "outputs": [
        {
          "output_type": "execute_result",
          "data": {
            "text/plain": [
              "4"
            ]
          },
          "metadata": {},
          "execution_count": 7
        }
      ]
    },
    {
      "cell_type": "code",
      "source": [
        "l.insert_head(1)\n",
        "l.insert_head(2)\n",
        "l.insert_head(3)\n",
        "l.insert_head(4)\n",
        "l.append(0)"
      ],
      "metadata": {
        "id": "JC8EIfPBTMhx"
      },
      "execution_count": 50,
      "outputs": []
    },
    {
      "cell_type": "code",
      "source": [
        "l.insert_in_btw(2,10)"
      ],
      "metadata": {
        "id": "mPgcPw5pZu9P"
      },
      "execution_count": 26,
      "outputs": []
    },
    {
      "cell_type": "code",
      "source": [
        "l.append(100)"
      ],
      "metadata": {
        "id": "Bj1gXgxh3Zd5"
      },
      "execution_count": 34,
      "outputs": []
    },
    {
      "cell_type": "code",
      "source": [
        "print(l)"
      ],
      "metadata": {
        "colab": {
          "base_uri": "https://localhost:8080/"
        },
        "id": "t6MVSE3UUKxs",
        "outputId": "be7e1750-a659-4d31-bc0f-6c5c949977ce"
      },
      "execution_count": 51,
      "outputs": [
        {
          "output_type": "stream",
          "name": "stdout",
          "text": [
            "4->3->2->1->0\n"
          ]
        }
      ]
    },
    {
      "cell_type": "code",
      "source": [
        "l.delete_at(2)"
      ],
      "metadata": {
        "id": "AQqK6CD9bbh9"
      },
      "execution_count": 30,
      "outputs": []
    },
    {
      "cell_type": "code",
      "source": [
        "l.sum_odd()"
      ],
      "metadata": {
        "colab": {
          "base_uri": "https://localhost:8080/",
          "height": 263
        },
        "id": "21a0GCs3f8Lk",
        "outputId": "8ea75148-aa49-4519-8352-a44539f646cc"
      },
      "execution_count": 52,
      "outputs": [
        {
          "output_type": "error",
          "ename": "NameError",
          "evalue": "name 'i' is not defined",
          "traceback": [
            "\u001b[0;31m---------------------------------------------------------------------------\u001b[0m",
            "\u001b[0;31mNameError\u001b[0m                                 Traceback (most recent call last)",
            "\u001b[0;32m<ipython-input-52-138ff51a3dc1>\u001b[0m in \u001b[0;36m<cell line: 0>\u001b[0;34m()\u001b[0m\n\u001b[0;32m----> 1\u001b[0;31m \u001b[0ml\u001b[0m\u001b[0;34m.\u001b[0m\u001b[0msum_odd\u001b[0m\u001b[0;34m(\u001b[0m\u001b[0;34m)\u001b[0m\u001b[0;34m\u001b[0m\u001b[0;34m\u001b[0m\u001b[0m\n\u001b[0m",
            "\u001b[0;32m<ipython-input-48-89fea5551ee0>\u001b[0m in \u001b[0;36msum_odd\u001b[0;34m(self)\u001b[0m\n\u001b[1;32m    156\u001b[0m     \u001b[0mcur\u001b[0m \u001b[0;34m=\u001b[0m \u001b[0mself\u001b[0m\u001b[0;34m.\u001b[0m\u001b[0mhead\u001b[0m\u001b[0;34m\u001b[0m\u001b[0;34m\u001b[0m\u001b[0m\n\u001b[1;32m    157\u001b[0m     \u001b[0;32mwhile\u001b[0m \u001b[0mcur\u001b[0m \u001b[0;34m!=\u001b[0m \u001b[0;32mNone\u001b[0m\u001b[0;34m:\u001b[0m\u001b[0;34m\u001b[0m\u001b[0;34m\u001b[0m\u001b[0m\n\u001b[0;32m--> 158\u001b[0;31m       \u001b[0;32mif\u001b[0m \u001b[0mi\u001b[0m \u001b[0;34m%\u001b[0m \u001b[0;36m2\u001b[0m \u001b[0;34m!=\u001b[0m \u001b[0;36m0\u001b[0m\u001b[0;34m:\u001b[0m\u001b[0;34m\u001b[0m\u001b[0;34m\u001b[0m\u001b[0m\n\u001b[0m\u001b[1;32m    159\u001b[0m         \u001b[0mprint\u001b[0m\u001b[0;34m(\u001b[0m\u001b[0mcur\u001b[0m\u001b[0;34m.\u001b[0m\u001b[0mdata\u001b[0m\u001b[0;34m)\u001b[0m\u001b[0;34m\u001b[0m\u001b[0;34m\u001b[0m\u001b[0m\n\u001b[1;32m    160\u001b[0m       \u001b[0mcur\u001b[0m \u001b[0;34m=\u001b[0m \u001b[0mcur\u001b[0m\u001b[0;34m.\u001b[0m\u001b[0mnext\u001b[0m\u001b[0;34m\u001b[0m\u001b[0;34m\u001b[0m\u001b[0m\n",
            "\u001b[0;31mNameError\u001b[0m: name 'i' is not defined"
          ]
        }
      ]
    }
  ]
}