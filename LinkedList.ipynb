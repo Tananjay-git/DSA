{
  "nbformat": 4,
  "nbformat_minor": 0,
  "metadata": {
    "colab": {
      "provenance": [],
      "authorship_tag": "ABX9TyNoKG8QET2nxEfXgpfuf/M7",
      "include_colab_link": true
    },
    "kernelspec": {
      "name": "python3",
      "display_name": "Python 3"
    },
    "language_info": {
      "name": "python"
    }
  },
  "cells": [
    {
      "cell_type": "markdown",
      "metadata": {
        "id": "view-in-github",
        "colab_type": "text"
      },
      "source": [
        "<a href=\"https://colab.research.google.com/github/Tananjay-git/DSA/blob/main/LinkedList.ipynb\" target=\"_parent\"><img src=\"https://colab.research.google.com/assets/colab-badge.svg\" alt=\"Open In Colab\"/></a>"
      ]
    },
    {
      "cell_type": "code",
      "execution_count": 1,
      "metadata": {
        "id": "xCQmR5VXQckA"
      },
      "outputs": [],
      "source": [
        "class Node:\n",
        "  def __init__(self, value):\n",
        "    self.data = value\n",
        "    self.next = None"
      ]
    },
    {
      "cell_type": "code",
      "source": [
        "class link_list:\n",
        "  def __init__(self):\n",
        "    self.head = None\n",
        "    self.n = 0 #count of node\n",
        "\n",
        "  def __len__(self):\n",
        "    return self.n\n",
        "\n",
        "  def insert_head(self, value):\n",
        "    new_node = Node(value) #Creating a new node\n",
        "    new_node.next = self.head\n",
        "    self.head = new_node\n",
        "    self.n = self.n + 1\n",
        "\n",
        "  def __str__(self):\n",
        "    cur = self.head\n",
        "    result = ''\n",
        "\n",
        "    if self.head != None:\n",
        "      while cur != None:\n",
        "        result = result + str(cur.data) + '->'\n",
        "        cur = cur.next\n",
        "      return result[:-2]\n",
        "    else:\n",
        "      return 'Empty Link List'\n",
        "\n",
        "  def append(self, value):\n",
        "    new_node = Node(value)\n",
        "\n",
        "    if self.head == None:\n",
        "      self.head = new_node\n",
        "      self.n = self.n +1\n",
        "      return\n",
        "\n",
        "    cur = self.head\n",
        "    while cur.next != None:\n",
        "      cur = cur.next\n",
        "\n",
        "    cur.next = new_node\n",
        "    self.n = self.n + 1\n",
        "\n",
        "  def insert_in_btw(self, pos, value):\n",
        "    new_node = Node(value)\n",
        "\n",
        "    if self.head == None:\n",
        "      self.head = new_node\n",
        "      self.n = self.n + 1\n",
        "      return\n",
        "\n",
        "    cur = self.head\n",
        "    for i in range(pos-1):\n",
        "      cur = cur.next\n",
        "\n",
        "    temp = cur.next\n",
        "    cur.next = new_node\n",
        "    new_node.next = temp\n",
        "    self.n = self.n + 1\n",
        "\n",
        "  def clear(self):\n",
        "    self.head = None\n",
        "    self.n = 0\n",
        "\n",
        "  def delete_head(self):\n",
        "    if self.head == None:\n",
        "      return 'Empty Linked List'\n",
        "    else:\n",
        "      self.head = self.head.next\n",
        "      self.n = self.n - 1\n",
        "\n",
        "  def delete_tail(self):\n",
        "    if self.head == None:\n",
        "      return \"Empty Link List\"\n",
        "    else:\n",
        "      cur = self.head\n",
        "      for i in range(self.n-2):\n",
        "        cur = cur.next\n",
        "      if cur.next == None:\n",
        "        self.delete_head()\n",
        "        return 'Linked List Deleted'\n",
        "      else:\n",
        "        cur.next = None\n",
        "        self.n = self.n - 1\n",
        "\n",
        "  def remove(self, value):\n",
        "    if self.head == None:\n",
        "      return 'Empty Link List'\n",
        "    else:\n",
        "      cur = self.head\n",
        "      if cur.data == value:\n",
        "        self.delete_head()\n",
        "        return\n",
        "      while cur.next != None:\n",
        "        if cur.next.data == value:\n",
        "          break\n",
        "        cur = cur.next\n",
        "      #Case 1 -- Item not  Found\n",
        "      if cur.next == None:\n",
        "        return 'Item Not found'\n",
        "      #Case 2 -- If Item found\n",
        "      else:\n",
        "        cur.next = cur.next.next\n",
        "        self.n = self.n - 1\n",
        "\n",
        "  def delete_at(self, pos):\n",
        "    if pos > self.n-1:\n",
        "      return 'Index Error'\n",
        "    if pos == 0:\n",
        "      self.delete_head()\n",
        "      return\n",
        "    if pos == self.n-1:\n",
        "      self.delete_tail()\n",
        "      return\n",
        "    cur = self.head\n",
        "    for i in range(pos-1):\n",
        "      cur = cur.next\n",
        "    cur.next = cur.next.next\n",
        "    self.n = self.n - 1\n",
        "\n",
        "  def search(self, value):\n",
        "    pos = 0\n",
        "    if self.head == None:\n",
        "      return 'Empty Link List'\n",
        "    else:\n",
        "      if self.head.data == value:\n",
        "        return pos\n",
        "      else:\n",
        "        cur = self.head\n",
        "        while cur != None:\n",
        "          if cur.data == value:\n",
        "            return pos\n",
        "          cur = cur.next\n",
        "          pos = pos + 1\n",
        "        return 'Item Not Found'\n",
        "\n",
        "  def __getitem__(self, pos):\n",
        "    if self.head == None:\n",
        "      return 'Empty Link List'\n",
        "    if pos > self.n-1:\n",
        "      return 'Out of range'\n",
        "    cur = self.head\n",
        "    for i in range(pos):\n",
        "      cur = cur.next\n",
        "    return cur.data\n",
        "\n",
        "  def replace_max(self, value):\n",
        "    if self.head == None:\n",
        "      return 'Empty Linked List'\n",
        "    cur = temp = self.head\n",
        "    while cur != None:\n",
        "      if cur.data >= temp.data:\n",
        "        temp = cur\n",
        "      cur = cur.next\n",
        "    temp.data = value\n",
        "\n",
        "  def sum_odd(self):\n",
        "    cur = self.head\n",
        "    n = 0\n",
        "    sum = 0\n",
        "    while cur != None:\n",
        "      if n % 2 != 0:\n",
        "        sum = sum + cur.data\n",
        "      n = n + 1\n",
        "      cur = cur.next\n",
        "    return sum\n",
        "\n",
        "  def reverse(self):\n",
        "    pv_node = None\n",
        "    cur = self.head\n",
        "    while cur != None:\n",
        "      next = cur.next\n",
        "      cur.next = pv_node\n",
        "      pv_node = cur\n",
        "      cur = next\n",
        "    self.head = pv_node\n"
      ],
      "metadata": {
        "id": "NrEIWaLNRQ7i"
      },
      "execution_count": 127,
      "outputs": []
    },
    {
      "cell_type": "code",
      "source": [
        "l = link_list()"
      ],
      "metadata": {
        "id": "n-mXIfKpS3MX"
      },
      "execution_count": 128,
      "outputs": []
    },
    {
      "cell_type": "code",
      "source": [
        "len(l)"
      ],
      "metadata": {
        "colab": {
          "base_uri": "https://localhost:8080/"
        },
        "id": "KA5DRRKUS8lI",
        "outputId": "29239872-18ed-4927-dba6-7957a4394853"
      },
      "execution_count": null,
      "outputs": [
        {
          "output_type": "execute_result",
          "data": {
            "text/plain": [
              "4"
            ]
          },
          "metadata": {},
          "execution_count": 7
        }
      ]
    },
    {
      "cell_type": "code",
      "source": [
        "l.clear()"
      ],
      "metadata": {
        "id": "B9O-Y-XdxaCT"
      },
      "execution_count": 109,
      "outputs": []
    },
    {
      "cell_type": "code",
      "source": [
        "l.insert_head(1)\n",
        "l.insert_head(2)\n",
        "l.insert_head(3)\n",
        "l.insert_head(4)\n",
        "l.append(0)"
      ],
      "metadata": {
        "id": "JC8EIfPBTMhx"
      },
      "execution_count": 129,
      "outputs": []
    },
    {
      "cell_type": "code",
      "source": [
        "l.insert_in_btw(2,10)"
      ],
      "metadata": {
        "id": "mPgcPw5pZu9P"
      },
      "execution_count": null,
      "outputs": []
    },
    {
      "cell_type": "code",
      "source": [
        "l.append(5)"
      ],
      "metadata": {
        "id": "Bj1gXgxh3Zd5"
      },
      "execution_count": 54,
      "outputs": []
    },
    {
      "cell_type": "code",
      "source": [
        "print(l)"
      ],
      "metadata": {
        "colab": {
          "base_uri": "https://localhost:8080/"
        },
        "id": "t6MVSE3UUKxs",
        "outputId": "e6165a2d-ac4c-4a60-b8ec-1191453437b1"
      },
      "execution_count": 132,
      "outputs": [
        {
          "output_type": "stream",
          "name": "stdout",
          "text": [
            "0->1->2->3->4\n"
          ]
        }
      ]
    },
    {
      "cell_type": "code",
      "source": [
        "l.reverse()"
      ],
      "metadata": {
        "id": "AQqK6CD9bbh9"
      },
      "execution_count": 131,
      "outputs": []
    },
    {
      "cell_type": "code",
      "source": [
        "l.sum_odd()"
      ],
      "metadata": {
        "colab": {
          "base_uri": "https://localhost:8080/"
        },
        "id": "21a0GCs3f8Lk",
        "outputId": "1d0e8264-ba48-46b0-c56d-9329368a5ffc"
      },
      "execution_count": 81,
      "outputs": [
        {
          "output_type": "execute_result",
          "data": {
            "text/plain": [
              "14"
            ]
          },
          "metadata": {},
          "execution_count": 81
        }
      ]
    },
    {
      "cell_type": "code",
      "source": [
        "l.reverse()"
      ],
      "metadata": {
        "id": "eoFo5xVRB_kZ",
        "outputId": "33b34fe5-d7b1-4158-e712-7221e7b34849",
        "colab": {
          "base_uri": "https://localhost:8080/",
          "height": 228
        }
      },
      "execution_count": 125,
      "outputs": [
        {
          "output_type": "error",
          "ename": "ValueError",
          "evalue": "invalid literal for int() with base 10: '0->1->2->3->4'",
          "traceback": [
            "\u001b[0;31m---------------------------------------------------------------------------\u001b[0m",
            "\u001b[0;31mValueError\u001b[0m                                Traceback (most recent call last)",
            "\u001b[0;32m<ipython-input-125-074c39a228cb>\u001b[0m in \u001b[0;36m<cell line: 0>\u001b[0;34m()\u001b[0m\n\u001b[0;32m----> 1\u001b[0;31m \u001b[0ml\u001b[0m\u001b[0;34m.\u001b[0m\u001b[0mreverse\u001b[0m\u001b[0;34m(\u001b[0m\u001b[0;34m)\u001b[0m\u001b[0;34m\u001b[0m\u001b[0;34m\u001b[0m\u001b[0m\n\u001b[0m",
            "\u001b[0;32m<ipython-input-121-46d84152ca5f>\u001b[0m in \u001b[0;36mreverse\u001b[0;34m(self)\u001b[0m\n\u001b[1;32m    173\u001b[0m       \u001b[0mresult\u001b[0m \u001b[0;34m=\u001b[0m \u001b[0mresult\u001b[0m\u001b[0;34m+\u001b[0m\u001b[0mstr\u001b[0m\u001b[0;34m(\u001b[0m\u001b[0mcur\u001b[0m\u001b[0;34m.\u001b[0m\u001b[0mdata\u001b[0m\u001b[0;34m)\u001b[0m\u001b[0;34m+\u001b[0m\u001b[0;34m'->'\u001b[0m\u001b[0;34m\u001b[0m\u001b[0;34m\u001b[0m\u001b[0m\n\u001b[1;32m    174\u001b[0m       \u001b[0mn\u001b[0m \u001b[0;34m=\u001b[0m \u001b[0mn\u001b[0m\u001b[0;34m-\u001b[0m\u001b[0;36m1\u001b[0m\u001b[0;34m\u001b[0m\u001b[0;34m\u001b[0m\u001b[0m\n\u001b[0;32m--> 175\u001b[0;31m     \u001b[0;32mreturn\u001b[0m \u001b[0mint\u001b[0m\u001b[0;34m(\u001b[0m\u001b[0mresult\u001b[0m\u001b[0;34m[\u001b[0m\u001b[0;34m:\u001b[0m\u001b[0;34m-\u001b[0m\u001b[0;36m2\u001b[0m\u001b[0;34m]\u001b[0m\u001b[0;34m)\u001b[0m\u001b[0;34m\u001b[0m\u001b[0;34m\u001b[0m\u001b[0m\n\u001b[0m",
            "\u001b[0;31mValueError\u001b[0m: invalid literal for int() with base 10: '0->1->2->3->4'"
          ]
        }
      ]
    }
  ]
}