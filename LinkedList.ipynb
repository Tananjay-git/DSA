{
  "nbformat": 4,
  "nbformat_minor": 0,
  "metadata": {
    "colab": {
      "provenance": [],
      "authorship_tag": "ABX9TyN7KtLEqMZpSNfM8qE2wdg8",
      "include_colab_link": true
    },
    "kernelspec": {
      "name": "python3",
      "display_name": "Python 3"
    },
    "language_info": {
      "name": "python"
    }
  },
  "cells": [
    {
      "cell_type": "markdown",
      "metadata": {
        "id": "view-in-github",
        "colab_type": "text"
      },
      "source": [
        "<a href=\"https://colab.research.google.com/github/Tananjay-git/DSA/blob/main/LinkedList.ipynb\" target=\"_parent\"><img src=\"https://colab.research.google.com/assets/colab-badge.svg\" alt=\"Open In Colab\"/></a>"
      ]
    },
    {
      "cell_type": "code",
      "execution_count": 16,
      "metadata": {
        "id": "aO8_Dy1fBZ86"
      },
      "outputs": [],
      "source": [
        "class Node:\n",
        "  def __init__(self, value):\n",
        "    self.data = value\n",
        "    self.next = None"
      ]
    },
    {
      "cell_type": "code",
      "source": [
        "a = Node(1)"
      ],
      "metadata": {
        "id": "kWZzHBysjC3N"
      },
      "execution_count": 6,
      "outputs": []
    },
    {
      "cell_type": "code",
      "source": [
        "print(a.data)\n",
        "print(a.next)"
      ],
      "metadata": {
        "colab": {
          "base_uri": "https://localhost:8080/"
        },
        "id": "kMYhS8f1jV9Z",
        "outputId": "00121f15-a3ee-4563-c6c6-b1648bb403da"
      },
      "execution_count": 8,
      "outputs": [
        {
          "output_type": "stream",
          "name": "stdout",
          "text": [
            "1\n",
            "None\n"
          ]
        }
      ]
    },
    {
      "cell_type": "code",
      "source": [
        "class LinkedList:\n",
        "  def __init__(self):\n",
        "    #Create a Empty LL\n",
        "    self.head = None\n",
        "    self.n = 0 # n is the number of node\n",
        "\n",
        "  def __len__(self):\n",
        "    return self.n\n",
        "\n",
        "  def insert_head(self, value):\n",
        "    #new Node\n",
        "    new_node = Node(value)\n",
        "\n",
        "    #Check for empty list\n",
        "    if self.n == 0 :\n",
        "      self.head = new_node\n",
        "\n",
        "    #creating connection\n",
        "    new_node.next = self.head\n",
        "\n",
        "    #reassing head\n",
        "    self.head = new_node\n"
      ],
      "metadata": {
        "id": "dbsOiCSWnGUm"
      },
      "execution_count": 17,
      "outputs": []
    },
    {
      "cell_type": "code",
      "source": [
        "l = LinkedList()"
      ],
      "metadata": {
        "id": "GMzUDIEenfh6"
      },
      "execution_count": 13,
      "outputs": []
    },
    {
      "cell_type": "code",
      "source": [
        "len(l)"
      ],
      "metadata": {
        "id": "Jayw0SwLnlQm",
        "outputId": "fbb2a383-3f4b-4a27-a825-797b474f2ed6",
        "colab": {
          "base_uri": "https://localhost:8080/"
        }
      },
      "execution_count": 14,
      "outputs": [
        {
          "output_type": "execute_result",
          "data": {
            "text/plain": [
              "0"
            ]
          },
          "metadata": {},
          "execution_count": 14
        }
      ]
    },
    {
      "cell_type": "code",
      "source": [],
      "metadata": {
        "id": "ebplVvjYqa9N"
      },
      "execution_count": null,
      "outputs": []
    }
  ]
}