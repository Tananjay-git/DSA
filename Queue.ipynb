{
  "nbformat": 4,
  "nbformat_minor": 0,
  "metadata": {
    "colab": {
      "provenance": [],
      "authorship_tag": "ABX9TyNVeiwgrLSMvSAxvz0nGypx",
      "include_colab_link": true
    },
    "kernelspec": {
      "name": "python3",
      "display_name": "Python 3"
    },
    "language_info": {
      "name": "python"
    }
  },
  "cells": [
    {
      "cell_type": "markdown",
      "metadata": {
        "id": "view-in-github",
        "colab_type": "text"
      },
      "source": [
        "<a href=\"https://colab.research.google.com/github/Tananjay-git/DSA/blob/main/Queue.ipynb\" target=\"_parent\"><img src=\"https://colab.research.google.com/assets/colab-badge.svg\" alt=\"Open In Colab\"/></a>"
      ]
    },
    {
      "cell_type": "code",
      "execution_count": 30,
      "metadata": {
        "id": "YgBkjLWGDPfj"
      },
      "outputs": [],
      "source": [
        "class Node:\n",
        "  def __init__(self, value):\n",
        "    self.data = value\n",
        "    self.next = None"
      ]
    },
    {
      "cell_type": "code",
      "source": [
        "class Queue:\n",
        "  def __init__(self):\n",
        "    self.front = None\n",
        "    self.rear = None\n",
        "\n",
        "  def enqueue(self, value):\n",
        "    new_node = Node(value)\n",
        "    if self.rear == None:\n",
        "      self.front = new_node\n",
        "      self.rear = self.front\n",
        "    else:\n",
        "      self.rear.next = new_node\n",
        "      self.rear = new_node\n",
        "\n",
        "  def dequeue(self):\n",
        "    if self.front == None:\n",
        "      return 'Empty Queue'\n",
        "    data = self.front.data\n",
        "    self.front = self.front.next\n",
        "    print(data)\n",
        "\n",
        "  def traverse(self):\n",
        "    if self.front == None:\n",
        "      return 'Empty Queue'\n",
        "    cur = self.front\n",
        "    while cur != None:\n",
        "      print(cur.data, end=' ')\n",
        "      cur = cur.next\n",
        "\n",
        "  def size(self):\n",
        "    cur = self.front\n",
        "    count = 0\n",
        "    while cur != None:\n",
        "      count += 1\n",
        "      cur = cur.next\n",
        "    return count\n",
        "\n",
        "  def front_item(self):\n",
        "    if self.front == None:\n",
        "      return 'Empty Queue'\n",
        "    return self.front.data\n",
        "\n",
        "  def rear_item(self):\n",
        "    if self.front == None:\n",
        "      return 'Empty Queue'\n",
        "    return self.rear.data\n",
        "\n",
        "\n"
      ],
      "metadata": {
        "id": "HUy7TfxuES3E"
      },
      "execution_count": 31,
      "outputs": []
    },
    {
      "cell_type": "code",
      "source": [
        "q = Queue()"
      ],
      "metadata": {
        "id": "pHx1g8h7JKSj"
      },
      "execution_count": 32,
      "outputs": []
    },
    {
      "cell_type": "code",
      "source": [
        "q.enqueue(1)\n",
        "q.enqueue(2)\n",
        "q.enqueue(3)\n",
        "q.enqueue(4)\n",
        "q.enqueue(5)"
      ],
      "metadata": {
        "id": "49-DuLVvJNh3"
      },
      "execution_count": 35,
      "outputs": []
    },
    {
      "cell_type": "code",
      "source": [
        "q.traverse()"
      ],
      "metadata": {
        "colab": {
          "base_uri": "https://localhost:8080/"
        },
        "id": "3EgI7OMXJewj",
        "outputId": "f498e914-8f87-407e-ee0f-ab503fba3bed"
      },
      "execution_count": 37,
      "outputs": [
        {
          "output_type": "stream",
          "name": "stdout",
          "text": [
            "1 2 3 4 5 "
          ]
        }
      ]
    },
    {
      "cell_type": "code",
      "source": [
        "q.dequeue()"
      ],
      "metadata": {
        "colab": {
          "base_uri": "https://localhost:8080/"
        },
        "id": "mAHw5uwPJjHT",
        "outputId": "7cd157e5-f08a-4e55-a43a-5304897e67bf"
      },
      "execution_count": 39,
      "outputs": [
        {
          "output_type": "stream",
          "name": "stdout",
          "text": [
            "1\n"
          ]
        }
      ]
    },
    {
      "cell_type": "code",
      "source": [
        "q.front_item()"
      ],
      "metadata": {
        "colab": {
          "base_uri": "https://localhost:8080/"
        },
        "id": "zgNP1KjTJpqr",
        "outputId": "c09089e4-6e02-40d1-c863-a5f7a1491897"
      },
      "execution_count": 40,
      "outputs": [
        {
          "output_type": "execute_result",
          "data": {
            "text/plain": [
              "2"
            ]
          },
          "metadata": {},
          "execution_count": 40
        }
      ]
    },
    {
      "cell_type": "code",
      "source": [
        "q.rear_item()"
      ],
      "metadata": {
        "colab": {
          "base_uri": "https://localhost:8080/"
        },
        "id": "0FAekYpnLoId",
        "outputId": "26f9738e-595f-4fd5-f7c8-21452a83171b"
      },
      "execution_count": 41,
      "outputs": [
        {
          "output_type": "execute_result",
          "data": {
            "text/plain": [
              "5"
            ]
          },
          "metadata": {},
          "execution_count": 41
        }
      ]
    },
    {
      "cell_type": "code",
      "source": [
        "q.size()"
      ],
      "metadata": {
        "colab": {
          "base_uri": "https://localhost:8080/"
        },
        "id": "0cZDZM5XL02C",
        "outputId": "1500c8d8-b3ab-4a69-90b0-225cd08a636a"
      },
      "execution_count": 42,
      "outputs": [
        {
          "output_type": "execute_result",
          "data": {
            "text/plain": [
              "4"
            ]
          },
          "metadata": {},
          "execution_count": 42
        }
      ]
    }
  ]
}