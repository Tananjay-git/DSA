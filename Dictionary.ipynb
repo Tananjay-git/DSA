{
  "nbformat": 4,
  "nbformat_minor": 0,
  "metadata": {
    "colab": {
      "provenance": [],
      "authorship_tag": "ABX9TyNc1uNTd1PicphthpTUbrpR",
      "include_colab_link": true
    },
    "kernelspec": {
      "name": "python3",
      "display_name": "Python 3"
    },
    "language_info": {
      "name": "python"
    }
  },
  "cells": [
    {
      "cell_type": "markdown",
      "metadata": {
        "id": "view-in-github",
        "colab_type": "text"
      },
      "source": [
        "<a href=\"https://colab.research.google.com/github/Tananjay-git/DSA/blob/main/Dictionary.ipynb\" target=\"_parent\"><img src=\"https://colab.research.google.com/assets/colab-badge.svg\" alt=\"Open In Colab\"/></a>"
      ]
    },
    {
      "cell_type": "code",
      "execution_count": 15,
      "metadata": {
        "id": "tlmfAQ7L0tao"
      },
      "outputs": [],
      "source": [
        "class Dictionary:\n",
        "  def __init__(self, size):\n",
        "    self.size = size\n",
        "    self.slot = [None] * self.size\n",
        "    self.data = [None] * self.size\n",
        "\n",
        "  def put(self, key, value):\n",
        "    hash_value = self.hash_function(key)\n",
        "    if self.slot[hash_value] == None:\n",
        "      self.slot[hash_value] = key\n",
        "      self.data[hash_value] = value\n",
        "    else :\n",
        "      if self.slot[hash_value] == key:\n",
        "        self.data[hash_value] = value\n",
        "      else:\n",
        "        new_hash = self.rehash(hash_value)\n",
        "        while self.slot[new_hash] != None and self.slot[new_hash] != key:\n",
        "          new_hash = self.rehash(new_hash)\n",
        "        if self.slot[new_hash] == None:\n",
        "          self.slot[new_hash] = key\n",
        "          self.data[new_hash] = value\n",
        "        else:\n",
        "          self.data[new_hash] = value\n",
        "\n",
        "  def find(self, key):\n",
        "    start = self.hash_function(key)\n",
        "    cur = start\n",
        "\n",
        "    while self.slot[cur] != None:\n",
        "      if self.slot[cur] == key:\n",
        "        return self.data[cur]\n",
        "      cur = self.rehash(cur)\n",
        "\n",
        "      if cur == start:\n",
        "        return \"Not Found\"\n",
        "\n",
        "    return \"Not Found\"\n",
        "\n",
        "  def hash_function(self, key):\n",
        "    return abs(hash(key)) % self.size\n",
        "\n",
        "  def rehash(self, old_hash):\n",
        "    return (old_hash + 1) % self.size\n",
        "\n",
        "  def __str__(self):\n",
        "    for i in range(len(self.slot)):\n",
        "      if self.slot[i] != None:\n",
        "        print(self.slot[i],\":\",self.data[i])\n",
        "\n",
        "    return ''\n",
        "\n"
      ]
    },
    {
      "cell_type": "code",
      "source": [
        "d = Dictionary(3)"
      ],
      "metadata": {
        "id": "STSUV0Rb3v__"
      },
      "execution_count": 16,
      "outputs": []
    },
    {
      "cell_type": "code",
      "source": [
        "print(d.slot)\n",
        "print(d.data)"
      ],
      "metadata": {
        "colab": {
          "base_uri": "https://localhost:8080/"
        },
        "id": "aMBXBxNk31fZ",
        "outputId": "725b9fea-2c87-4995-8fbe-b8c5ea066fbc"
      },
      "execution_count": 13,
      "outputs": [
        {
          "output_type": "stream",
          "name": "stdout",
          "text": [
            "['python', 'c++', 'php']\n",
            "[160, 190, 60]\n"
          ]
        }
      ]
    },
    {
      "cell_type": "code",
      "source": [
        "d.put('php', 90)"
      ],
      "metadata": {
        "id": "LzVw4hDt4Dc9"
      },
      "execution_count": 19,
      "outputs": []
    },
    {
      "cell_type": "code",
      "source": [
        "d.find('java')"
      ],
      "metadata": {
        "colab": {
          "base_uri": "https://localhost:8080/",
          "height": 35
        },
        "id": "DVbRcyJhIBZj",
        "outputId": "5733d866-661d-4801-c142-85e6451eb62a"
      },
      "execution_count": 14,
      "outputs": [
        {
          "output_type": "execute_result",
          "data": {
            "text/plain": [
              "'Not Found'"
            ],
            "application/vnd.google.colaboratory.intrinsic+json": {
              "type": "string"
            }
          },
          "metadata": {},
          "execution_count": 14
        }
      ]
    },
    {
      "cell_type": "code",
      "source": [
        "print(d)"
      ],
      "metadata": {
        "colab": {
          "base_uri": "https://localhost:8080/"
        },
        "id": "pbre9IKnKQ95",
        "outputId": "c4476f73-c7fd-4a5a-f464-db06ad990eb7"
      },
      "execution_count": 20,
      "outputs": [
        {
          "output_type": "stream",
          "name": "stdout",
          "text": [
            "c : 1090\n",
            "php : 90\n",
            "c++ : 190\n",
            "\n"
          ]
        }
      ]
    }
  ]
}