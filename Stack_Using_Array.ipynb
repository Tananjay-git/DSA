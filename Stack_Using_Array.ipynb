{
  "nbformat": 4,
  "nbformat_minor": 0,
  "metadata": {
    "colab": {
      "provenance": [],
      "authorship_tag": "ABX9TyNaRGNVAvpvFSqTc+qpWvgl",
      "include_colab_link": true
    },
    "kernelspec": {
      "name": "python3",
      "display_name": "Python 3"
    },
    "language_info": {
      "name": "python"
    }
  },
  "cells": [
    {
      "cell_type": "markdown",
      "metadata": {
        "id": "view-in-github",
        "colab_type": "text"
      },
      "source": [
        "<a href=\"https://colab.research.google.com/github/Tananjay-git/DSA/blob/main/Stack_Using_Array.ipynb\" target=\"_parent\"><img src=\"https://colab.research.google.com/assets/colab-badge.svg\" alt=\"Open In Colab\"/></a>"
      ]
    },
    {
      "cell_type": "code",
      "execution_count": 93,
      "metadata": {
        "id": "ghV9v5QSw8Hl"
      },
      "outputs": [],
      "source": [
        "class stack:\n",
        "  def __init__(self, size):\n",
        "    self.size = size\n",
        "    self.A = [None]*size\n",
        "    self.top = -1\n",
        "\n",
        "  def push(self, value):\n",
        "    if self.top == self.size:\n",
        "      return 'Overfolw'\n",
        "    else:\n",
        "      self.top += 1\n",
        "      self.A[self.top] = value\n",
        "\n",
        "  def pop(self):\n",
        "    if self.top == -1:\n",
        "      return 'Empty'\n",
        "    else:\n",
        "      data = self.A[self.top]\n",
        "      self.top -= 1\n",
        "      print(data)\n",
        "\n",
        "  def traverse(self):\n",
        "    if self.top == -1:\n",
        "      return 'Empty'\n",
        "    for i in range(self.top+1):\n",
        "      print(self.A[i],end=' ')"
      ]
    },
    {
      "cell_type": "code",
      "source": [
        "l = stack(3)"
      ],
      "metadata": {
        "id": "KwK_F2yszOQT"
      },
      "execution_count": 94,
      "outputs": []
    },
    {
      "cell_type": "code",
      "source": [
        "l.push(1)"
      ],
      "metadata": {
        "id": "xzUjjh3uzhnr"
      },
      "execution_count": 95,
      "outputs": []
    },
    {
      "cell_type": "code",
      "source": [
        "l.A"
      ],
      "metadata": {
        "colab": {
          "base_uri": "https://localhost:8080/"
        },
        "id": "jNc__TxH0lih",
        "outputId": "53912cd2-57e3-4be7-d153-e8f230a1d3a0"
      },
      "execution_count": 79,
      "outputs": [
        {
          "output_type": "execute_result",
          "data": {
            "text/plain": [
              "[3, None, None]"
            ]
          },
          "metadata": {},
          "execution_count": 79
        }
      ]
    },
    {
      "cell_type": "code",
      "source": [
        "l.pop()"
      ],
      "metadata": {
        "colab": {
          "base_uri": "https://localhost:8080/",
          "height": 35
        },
        "id": "rN0NXx9e33vu",
        "outputId": "41c580a6-b0ff-40c7-cbce-ae12ae2cfc7a"
      },
      "execution_count": 89,
      "outputs": [
        {
          "output_type": "execute_result",
          "data": {
            "text/plain": [
              "'Empty'"
            ],
            "application/vnd.google.colaboratory.intrinsic+json": {
              "type": "string"
            }
          },
          "metadata": {},
          "execution_count": 89
        }
      ]
    },
    {
      "cell_type": "code",
      "source": [
        "l.traverse()"
      ],
      "metadata": {
        "colab": {
          "base_uri": "https://localhost:8080/",
          "height": 35
        },
        "id": "gTbcD4Kh41jI",
        "outputId": "0fec2981-7ead-4151-b091-062a7f6d8886"
      },
      "execution_count": 88,
      "outputs": [
        {
          "output_type": "execute_result",
          "data": {
            "text/plain": [
              "'Empty'"
            ],
            "application/vnd.google.colaboratory.intrinsic+json": {
              "type": "string"
            }
          },
          "metadata": {},
          "execution_count": 88
        }
      ]
    }
  ]
}