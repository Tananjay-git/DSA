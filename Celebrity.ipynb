{
  "nbformat": 4,
  "nbformat_minor": 0,
  "metadata": {
    "colab": {
      "provenance": [],
      "authorship_tag": "ABX9TyPmKqh8llToktCuppaSUeUG",
      "include_colab_link": true
    },
    "kernelspec": {
      "name": "python3",
      "display_name": "Python 3"
    },
    "language_info": {
      "name": "python"
    }
  },
  "cells": [
    {
      "cell_type": "markdown",
      "metadata": {
        "id": "view-in-github",
        "colab_type": "text"
      },
      "source": [
        "<a href=\"https://colab.research.google.com/github/Tananjay-git/DSA/blob/main/Celebrity.ipynb\" target=\"_parent\"><img src=\"https://colab.research.google.com/assets/colab-badge.svg\" alt=\"Open In Colab\"/></a>"
      ]
    },
    {
      "cell_type": "code",
      "execution_count": 4,
      "metadata": {
        "id": "ez4WTRy5dvC4"
      },
      "outputs": [],
      "source": [
        "class Node:\n",
        "\n",
        "  def __init__(self,value):\n",
        "    self.data = value\n",
        "    self.next = None"
      ]
    },
    {
      "cell_type": "code",
      "source": [
        "class Stack:\n",
        "\n",
        "  def __init__(self):\n",
        "    self.top = None\n",
        "\n",
        "  def push(self, value):\n",
        "\n",
        "    new_node = Node(value)\n",
        "\n",
        "    new_node.next = self.top\n",
        "\n",
        "    self.top = new_node\n",
        "\n",
        "  def pop(self):\n",
        "\n",
        "    if self.top is None:\n",
        "      return \"Stack Empty\"\n",
        "    else:\n",
        "      data = self.top.data\n",
        "      self.top = self.top.next\n",
        "      return data\n",
        "\n",
        "  def is_empty(self):\n",
        "    return self.top == None\n",
        "\n",
        "  def peek(self):\n",
        "\n",
        "    if self.top is None:\n",
        "      return \"Stack Empty\"\n",
        "    else:\n",
        "      return self.top.data\n",
        "\n",
        "  def traverse(self):\n",
        "\n",
        "    temp = self.top\n",
        "\n",
        "    while temp is not None:\n",
        "      print(temp.data,end=' ')\n",
        "      temp = temp.next\n",
        "\n",
        "  def size(self):\n",
        "\n",
        "    temp = self.top\n",
        "    counter = 0\n",
        "\n",
        "    while temp is not None:\n",
        "      temp = temp.next\n",
        "      counter+=1\n",
        "\n",
        "    return counter"
      ],
      "metadata": {
        "id": "NhNV1C8sd_fy"
      },
      "execution_count": 5,
      "outputs": []
    },
    {
      "cell_type": "code",
      "source": [
        "L = [\n",
        "     [0,0,1,1],\n",
        "     [0,0,1,1],\n",
        "     [1,0,0,1],\n",
        "     [0,0,0,0]\n",
        "]"
      ],
      "metadata": {
        "id": "e2EyjNtVeLQX"
      },
      "execution_count": 18,
      "outputs": []
    },
    {
      "cell_type": "code",
      "source": [
        "def celeb(l):\n",
        "  s = Stack()\n",
        "  for i in range(len(l)):\n",
        "    s.push(i)\n",
        "  while s.size() >= 2 :\n",
        "    i = s.pop()\n",
        "    j = s.pop()\n",
        "    if l[i][j] == 0:\n",
        "      # J is not the Celeb\n",
        "      s.push(i)\n",
        "    else:\n",
        "      # i is not the celeb\n",
        "      s.push(j)\n",
        "  c = s.pop()\n",
        "  for i in range(len(l)):\n",
        "    if i != c:\n",
        "      if l[i][c]!=1 or l[c][i]!=0:\n",
        "        print('No one is Celebrity')\n",
        "        return\n",
        "  print('Celebrity is ', c)"
      ],
      "metadata": {
        "id": "GfEh9MtTeTYC"
      },
      "execution_count": 21,
      "outputs": []
    },
    {
      "cell_type": "code",
      "source": [
        "celeb(L)"
      ],
      "metadata": {
        "colab": {
          "base_uri": "https://localhost:8080/"
        },
        "id": "uWHjcQRZixe0",
        "outputId": "95dd6643-1da7-4180-ede6-2408c23224e9"
      },
      "execution_count": 22,
      "outputs": [
        {
          "output_type": "stream",
          "name": "stdout",
          "text": [
            "Celebrity is  3\n"
          ]
        }
      ]
    }
  ]
}